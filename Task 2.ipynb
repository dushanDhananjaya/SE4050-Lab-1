{
  "nbformat": 4,
  "nbformat_minor": 0,
  "metadata": {
    "colab": {
      "provenance": []
    },
    "kernelspec": {
      "name": "python3",
      "display_name": "Python 3"
    },
    "language_info": {
      "name": "python"
    }
  },
  "cells": [
    {
      "cell_type": "code",
      "execution_count": 3,
      "metadata": {
        "colab": {
          "base_uri": "https://localhost:8080/"
        },
        "id": "vaA8YYZLCrt9",
        "outputId": "53a19a4b-e37e-403b-ce4d-de0489a26965"
      },
      "outputs": [
        {
          "output_type": "stream",
          "name": "stdout",
          "text": [
            "Original dataset shape: (4000, 185)\n",
            "Original dataset columns: ['ID', 'T', 'tau', 'time', 'N_total', 'N_bulk', 'N_surface', 'Volume', 'R_min', 'R_max', 'R_diff', 'R_avg', 'R_std', 'R_skew', 'R_kurt', 'S_100', 'S_111', 'S_110', 'S_311', 'Curve_1-10', 'Curve_11-20', 'Curve_21-30', 'Curve_31-40', 'Curve_41-50', 'Curve_51-60', 'Curve_61-70', 'Curve_71-80', 'Curve_81-90', 'Curve_91-100', 'Curve_101-110', 'Curve_111-120', 'Curve_121-130', 'Curve_131-140', 'Curve_141-150', 'Curve_151-160', 'Curve_161-170', 'Curve_171-180', 'Avg_total', 'Avg_bulk', 'Avg_surf', 'TCN_0', 'TCN_1', 'TCN_2', 'TCN_3', 'TCN_4', 'TCN_5', 'TCN_6', 'TCN_7', 'TCN_8', 'TCN_9', 'TCN_10', 'TCN_11', 'TCN_12', 'TCN_13', 'TCN_14', 'TCN_15', 'TCN_16', 'TCN_17', 'TCN_18', 'TCN_19', 'TCN_20', 'BCN_0', 'BCN_1', 'BCN_2', 'BCN_3', 'BCN_4', 'BCN_5', 'BCN_6', 'BCN_7', 'BCN_8', 'BCN_9', 'BCN_10', 'BCN_11', 'BCN_12', 'BCN_13', 'BCN_14', 'BCN_15', 'BCN_16', 'BCN_17', 'BCN_18', 'BCN_19', 'BCN_20', 'SCN_0', 'SCN_1', 'SCN_2', 'SCN_3', 'SCN_4', 'SCN_5', 'SCN_6', 'SCN_7', 'SCN_8', 'SCN_9', 'SCN_10', 'SCN_11', 'SCN_12', 'SCN_13', 'SCN_14', 'SCN_15', 'SCN_16', 'SCN_17', 'SCN_18', 'SCN_19', 'SCN_20', 'Avg_bonds', 'Std_bonds', 'Max_bonds', 'Min_bonds', 'N_bonds', 'angle_avg', 'angle_std', 'FCC', 'HCP', 'ICOS', 'DECA', 'q6q6_avg_total', 'q6q6_avg_bulk', 'q6q6_avg_surf', 'q6q6_T0', 'q6q6_T1', 'q6q6_T2', 'q6q6_T3', 'q6q6_T4', 'q6q6_T5', 'q6q6_T6', 'q6q6_T7', 'q6q6_T8', 'q6q6_T9', 'q6q6_T10', 'q6q6_T11', 'q6q6_T12', 'q6q6_T13', 'q6q6_T14', 'q6q6_T15', 'q6q6_T16', 'q6q6_T17', 'q6q6_T18', 'q6q6_T19', 'q6q6_T20', 'q6q6_T20+', 'q6q6_B0', 'q6q6_B1', 'q6q6_B2', 'q6q6_B3', 'q6q6_B4', 'q6q6_B5', 'q6q6_B6', 'q6q6_B7', 'q6q6_B8', 'q6q6_B9', 'q6q6_B10', 'q6q6_B11', 'q6q6_B12', 'q6q6_B13', 'q6q6_B14', 'q6q6_B15', 'q6q6_B16', 'q6q6_B17', 'q6q6_B18', 'q6q6_B19', 'q6q6_B20', 'q6q6_B20+', 'q6q6_S0', 'q6q6_S1', 'q6q6_S2', 'q6q6_S3', 'q6q6_S4', 'q6q6_S5', 'q6q6_S6', 'q6q6_S7', 'q6q6_S8', 'q6q6_S9', 'q6q6_S10', 'q6q6_S11', 'q6q6_S12', 'q6q6_S13', 'q6q6_S14', 'q6q6_S15', 'q6q6_S16', 'q6q6_S17', 'q6q6_S18', 'q6q6_S19', 'q6q6_S20', 'q6q6_S20+', 'Total_E', 'Formation_E']\n",
            "\n",
            "Task 2.1: New dataframe with filtered columns\n",
            "New dataframe shape: (4000, 4)\n",
            "New dataframe columns: ['N_total', 'N_bulk', 'N_surface', 'R_avg']\n"
          ]
        }
      ],
      "source": [
        "import pandas as pd\n",
        "import numpy as np\n",
        "import matplotlib.pyplot as plt\n",
        "import seaborn as sns\n",
        "\n",
        "# Load the actual dataset\n",
        "df = pd.read_csv(\"/content/Au_nanoparticle_dataset.csv\")\n",
        "\n",
        "print(\"Original dataset shape:\", df.shape)\n",
        "print(\"Original dataset columns:\", df.columns.tolist())\n",
        "\n",
        "# Task 2.1: Filter relevant columns\n",
        "new_df = df[[\"N_total\", \"N_bulk\", \"N_surface\", \"R_avg\"]].copy()\n",
        "\n",
        "print(\"\\nTask 2.1: New dataframe with filtered columns\")\n",
        "print(\"New dataframe shape:\", new_df.shape)\n",
        "print(\"New dataframe columns:\", new_df.columns.tolist())"
      ]
    },
    {
      "cell_type": "code",
      "source": [
        "from google.colab import drive\n",
        "drive.mount('/content/drive')"
      ],
      "metadata": {
        "id": "ZdQ2S3TY_jq-",
        "colab": {
          "base_uri": "https://localhost:8080/"
        },
        "outputId": "ef3632da-c6a3-403e-d0d4-78b17e9fc933"
      },
      "execution_count": 2,
      "outputs": [
        {
          "output_type": "stream",
          "name": "stdout",
          "text": [
            "Drive already mounted at /content/drive; to attempt to forcibly remount, call drive.mount(\"/content/drive\", force_remount=True).\n"
          ]
        }
      ]
    },
    {
      "cell_type": "code",
      "source": [
        "# Task 2.2: Show first 20 samples\n",
        "print(\"\\nTask 2.2: First 20 samples of the filtered dataframe\")\n",
        "print(new_df.head(20))"
      ],
      "metadata": {
        "colab": {
          "base_uri": "https://localhost:8080/"
        },
        "id": "XpWnuHsQEkr0",
        "outputId": "97369682-f1b7-49c1-c708-213ca585d474"
      },
      "execution_count": 4,
      "outputs": [
        {
          "output_type": "stream",
          "name": "stdout",
          "text": [
            "\n",
            "Task 2.2: First 20 samples of the filtered dataframe\n",
            "    N_total  N_bulk  N_surface    R_avg\n",
            "0      1599    1014        585  17.3706\n",
            "1      1642    1034        608  17.6061\n",
            "2      4637    3365       1272  25.3692\n",
            "3      7189    5292       1897  29.7011\n",
            "4     11004    8508       2496  34.2831\n",
            "5     13375   10768       2607  36.6334\n",
            "6     13795   11155       2640  37.0108\n",
            "7     13947   11304       2643  37.1672\n",
            "8     14020   11357       2663  37.2103\n",
            "9     14056   11389       2667  37.2467\n",
            "10     1534     966        568  17.1107\n",
            "11     1559     974        585  17.2101\n",
            "12     4356    3099       1257  24.8253\n",
            "13     6550    4675       1875  29.0376\n",
            "14    10175    7748       2427  33.4399\n",
            "15    12393    9842       2551  35.6950\n",
            "16    13207   10590       2617  36.4657\n",
            "17    13543   10937       2606  36.7871\n",
            "18    13713   11079       2634  36.9333\n",
            "19    13791   11151       2640  37.0104\n"
          ]
        }
      ]
    },
    {
      "cell_type": "code",
      "source": [
        "# Task 2.3: Summary statistics\n",
        "print(\"\\nTask 2.3: Statistical summary of the 4 features\")\n",
        "\n",
        "print(\"\\nMean values:\")\n",
        "print(new_df.mean())\n",
        "\n",
        "print(\"\\nStandard deviation values:\")\n",
        "print(new_df.std())\n",
        "\n",
        "print(\"\\nQuartile values (25%, 50%, 75%):\")\n",
        "print(new_df.quantile([0.25, 0.5, 0.75]))\n",
        "\n",
        "print(\"\\nComplete statistical description:\")\n",
        "print(new_df.describe())"
      ],
      "metadata": {
        "colab": {
          "base_uri": "https://localhost:8080/"
        },
        "id": "-teYC4m9EzsX",
        "outputId": "7f2ff822-2c38-4a56-b75d-0d8176fe97ad"
      },
      "execution_count": 5,
      "outputs": [
        {
          "output_type": "stream",
          "name": "stdout",
          "text": [
            "\n",
            "Task 2.3: Statistical summary of the 4 features\n",
            "\n",
            "Mean values:\n",
            "N_total      3476.786500\n",
            "N_bulk       2521.550250\n",
            "N_surface     955.236250\n",
            "R_avg          20.654363\n",
            "dtype: float64\n",
            "\n",
            "Standard deviation values:\n",
            "N_total      3679.286769\n",
            "N_bulk       2976.232459\n",
            "N_surface     721.870220\n",
            "R_avg           7.610716\n",
            "dtype: float64\n",
            "\n",
            "Quartile values (25%, 50%, 75%):\n",
            "      N_total   N_bulk  N_surface      R_avg\n",
            "0.25   1061.0   618.75     437.00  15.160725\n",
            "0.50   1867.0  1199.00     666.00  18.629250\n",
            "0.75   4503.0  3183.00    1301.75  25.525125\n",
            "\n",
            "Complete statistical description:\n",
            "            N_total        N_bulk   N_surface        R_avg\n",
            "count   4000.000000   4000.000000  4000.00000  4000.000000\n",
            "mean    3476.786500   2521.550250   955.23625    20.654363\n",
            "std     3679.286769   2976.232459   721.87022     7.610716\n",
            "min      236.000000     89.000000   137.00000     8.528600\n",
            "25%     1061.000000    618.750000   437.00000    15.160725\n",
            "50%     1867.000000   1199.000000   666.00000    18.629250\n",
            "75%     4503.000000   3183.000000  1301.75000    25.525125\n",
            "max    14277.000000  11580.000000  3190.00000    39.239200\n"
          ]
        }
      ]
    },
    {
      "cell_type": "code",
      "source": [
        "# Task 2.4: Histograms in 1x4 layout\n",
        "plt.figure(figsize=(16, 4))\n",
        "features = [\"N_total\", \"N_bulk\", \"N_surface\", \"R_avg\"]\n",
        "for i, feature in enumerate(features, 1):\n",
        "    plt.subplot(1, 4, i)\n",
        "    plt.hist(new_df[feature], bins=30, alpha=0.7, edgecolor='black')\n",
        "    plt.title(f'Histogram of {feature}')\n",
        "    plt.xlabel(feature)\n",
        "    plt.ylabel(\"Frequency\")\n",
        "    plt.grid(True, alpha=0.3)\n",
        "\n",
        "plt.tight_layout()\n",
        "plt.savefig(\"task2_histograms.png\", dpi=300, bbox_inches=\"tight\")\n",
        "plt.close()\n",
        "print(\"\\nTask 2.4: Histograms saved as 'task2_histograms.png'\")"
      ],
      "metadata": {
        "colab": {
          "base_uri": "https://localhost:8080/"
        },
        "id": "Q4aeptpNE5pG",
        "outputId": "c00a79b9-3dcf-49b1-923b-e01847339abd"
      },
      "execution_count": 7,
      "outputs": [
        {
          "output_type": "stream",
          "name": "stdout",
          "text": [
            "\n",
            "Task 2.4: Histograms saved as 'task2_histograms.png'\n"
          ]
        }
      ]
    },
    {
      "cell_type": "code",
      "source": [
        "# Task 2.5: Pairplot\n",
        "sns.pairplot(new_df)\n",
        "plt.savefig(\"task2_pairplot.png\", dpi=300, bbox_inches=\"tight\")\n",
        "plt.close()\n",
        "print(\"\\nTask 2.5: Pairplot saved as 'task2_pairplot.png'\")\n"
      ],
      "metadata": {
        "colab": {
          "base_uri": "https://localhost:8080/"
        },
        "id": "l7CKqCsJE-GS",
        "outputId": "46a85834-47e1-451c-b115-dcc1cd3a7e22"
      },
      "execution_count": 8,
      "outputs": [
        {
          "output_type": "stream",
          "name": "stdout",
          "text": [
            "\n",
            "Task 2.5: Pairplot saved as 'task2_pairplot.png'\n"
          ]
        }
      ]
    },
    {
      "cell_type": "code",
      "source": [
        "# Task 2.6: Modified PairGrid\n",
        "print(\"\\nTask 2.6: Creating modified PairGrid plot\")\n",
        "\n",
        "g = sns.PairGrid(new_df)\n",
        "g.map_upper(sns.histplot)\n",
        "g.map_diag(sns.histplot, kde=True)\n",
        "g.map_lower(sns.kdeplot)\n",
        "\n",
        "plt.savefig(\"task2_modified_pairplot.png\", dpi=300, bbox_inches=\"tight\")\n",
        "plt.close()\n",
        "print(\"Modified PairGrid plot saved as 'task2_modified_pairplot.png'\")\n",
        "\n",
        "print(\"\\nTask 2 completed successfully!\")\n",
        "print(\"All plots have been saved as PNG files.\")"
      ],
      "metadata": {
        "colab": {
          "base_uri": "https://localhost:8080/"
        },
        "id": "UE8FhKGjF1Fn",
        "outputId": "4ce910d2-907a-4f14-a46e-0d9220ef76bb"
      },
      "execution_count": 9,
      "outputs": [
        {
          "output_type": "stream",
          "name": "stdout",
          "text": [
            "\n",
            "Task 2.6: Creating modified PairGrid plot\n",
            "Modified PairGrid plot saved as 'task2_modified_pairplot.png'\n",
            "\n",
            "Task 2 completed successfully!\n",
            "All plots have been saved as PNG files.\n"
          ]
        }
      ]
    }
  ]
}
